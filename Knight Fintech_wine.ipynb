{
 "cells": [
  {
   "cell_type": "markdown",
   "id": "d90eb33f",
   "metadata": {},
   "source": [
    "# 1. Importing all necessary libraries"
   ]
  },
  {
   "cell_type": "code",
   "execution_count": 1,
   "id": "bc6a4696",
   "metadata": {},
   "outputs": [],
   "source": [
    "import pandas as pd\n",
    "import numpy as np\n",
    "import matplotlib.pyplot as plt\n",
    "import seaborn as sns\n",
    "import warnings\n",
    "warnings.filterwarnings(\"ignore\")"
   ]
  },
  {
   "cell_type": "markdown",
   "id": "471b5f4c",
   "metadata": {},
   "source": [
    "# 2. Train data reading"
   ]
  },
  {
   "cell_type": "code",
   "execution_count": 2,
   "id": "1976367c",
   "metadata": {},
   "outputs": [],
   "source": [
    "train = pd.read_csv(r\"C:\\Users\\risew\\Downloads\\Python - assignment\\Train_Data\\Data\\train.csv\")\n",
    "test = pd.read_csv(r\"C:\\Users\\risew\\Downloads\\Python - assignment\\Train_Data\\Data\\test.csv\")"
   ]
  },
  {
   "cell_type": "markdown",
   "id": "29c71214",
   "metadata": {},
   "source": [
    "# 3. Data exploration (EDA)"
   ]
  },
  {
   "cell_type": "code",
   "execution_count": 3,
   "id": "a8ead06c",
   "metadata": {},
   "outputs": [
    {
     "data": {
      "text/html": [
       "<div>\n",
       "<style scoped>\n",
       "    .dataframe tbody tr th:only-of-type {\n",
       "        vertical-align: middle;\n",
       "    }\n",
       "\n",
       "    .dataframe tbody tr th {\n",
       "        vertical-align: top;\n",
       "    }\n",
       "\n",
       "    .dataframe thead th {\n",
       "        text-align: right;\n",
       "    }\n",
       "</style>\n",
       "<table border=\"1\" class=\"dataframe\">\n",
       "  <thead>\n",
       "    <tr style=\"text-align: right;\">\n",
       "      <th></th>\n",
       "      <th>user_name</th>\n",
       "      <th>country</th>\n",
       "      <th>review_title</th>\n",
       "      <th>review_description</th>\n",
       "      <th>designation</th>\n",
       "      <th>points</th>\n",
       "      <th>price</th>\n",
       "      <th>province</th>\n",
       "      <th>region_1</th>\n",
       "      <th>region_2</th>\n",
       "      <th>winery</th>\n",
       "      <th>variety</th>\n",
       "    </tr>\n",
       "  </thead>\n",
       "  <tbody>\n",
       "    <tr>\n",
       "      <th>0</th>\n",
       "      <td>NaN</td>\n",
       "      <td>Australia</td>\n",
       "      <td>Andrew Peace 2007 Peace Family Vineyard Chardo...</td>\n",
       "      <td>Classic Chardonnay aromas of apple, pear and h...</td>\n",
       "      <td>Peace Family Vineyard</td>\n",
       "      <td>83</td>\n",
       "      <td>10.0</td>\n",
       "      <td>Australia Other</td>\n",
       "      <td>South Eastern Australia</td>\n",
       "      <td>NaN</td>\n",
       "      <td>Andrew Peace</td>\n",
       "      <td>Chardonnay</td>\n",
       "    </tr>\n",
       "    <tr>\n",
       "      <th>1</th>\n",
       "      <td>@wawinereport</td>\n",
       "      <td>US</td>\n",
       "      <td>North by Northwest 2014 Red (Columbia Valley (...</td>\n",
       "      <td>This wine is near equal parts Syrah and Merlot...</td>\n",
       "      <td>NaN</td>\n",
       "      <td>89</td>\n",
       "      <td>15.0</td>\n",
       "      <td>Washington</td>\n",
       "      <td>Columbia Valley (WA)</td>\n",
       "      <td>Columbia Valley</td>\n",
       "      <td>North by Northwest</td>\n",
       "      <td>Red Blend</td>\n",
       "    </tr>\n",
       "    <tr>\n",
       "      <th>2</th>\n",
       "      <td>NaN</td>\n",
       "      <td>Italy</td>\n",
       "      <td>Renato Ratti 2007 Conca  (Barolo)</td>\n",
       "      <td>Barolo Conca opens with inky dark concentratio...</td>\n",
       "      <td>Conca</td>\n",
       "      <td>94</td>\n",
       "      <td>80.0</td>\n",
       "      <td>Piedmont</td>\n",
       "      <td>Barolo</td>\n",
       "      <td>NaN</td>\n",
       "      <td>Renato Ratti</td>\n",
       "      <td>Nebbiolo</td>\n",
       "    </tr>\n",
       "    <tr>\n",
       "      <th>3</th>\n",
       "      <td>@vossroger</td>\n",
       "      <td>France</td>\n",
       "      <td>Domaine l'Ancienne Cure 2010 L'Abbaye White (B...</td>\n",
       "      <td>It's impressive what a small addition of Sauvi...</td>\n",
       "      <td>L'Abbaye</td>\n",
       "      <td>87</td>\n",
       "      <td>22.0</td>\n",
       "      <td>Southwest France</td>\n",
       "      <td>Bergerac Sec</td>\n",
       "      <td>NaN</td>\n",
       "      <td>Domaine l'Ancienne Cure</td>\n",
       "      <td>Bordeaux-style White Blend</td>\n",
       "    </tr>\n",
       "    <tr>\n",
       "      <th>4</th>\n",
       "      <td>@vossroger</td>\n",
       "      <td>France</td>\n",
       "      <td>Château du Cèdre 2012 Le Cèdre Vintage Malbec ...</td>\n",
       "      <td>This ripe, sweet wine is rich and full of drie...</td>\n",
       "      <td>Le Cèdre Vintage</td>\n",
       "      <td>88</td>\n",
       "      <td>33.0</td>\n",
       "      <td>France Other</td>\n",
       "      <td>Vin de Liqueur</td>\n",
       "      <td>NaN</td>\n",
       "      <td>Château du Cèdre</td>\n",
       "      <td>Malbec</td>\n",
       "    </tr>\n",
       "  </tbody>\n",
       "</table>\n",
       "</div>"
      ],
      "text/plain": [
       "       user_name    country  \\\n",
       "0            NaN  Australia   \n",
       "1  @wawinereport         US   \n",
       "2            NaN      Italy   \n",
       "3     @vossroger     France   \n",
       "4     @vossroger     France   \n",
       "\n",
       "                                        review_title  \\\n",
       "0  Andrew Peace 2007 Peace Family Vineyard Chardo...   \n",
       "1  North by Northwest 2014 Red (Columbia Valley (...   \n",
       "2                  Renato Ratti 2007 Conca  (Barolo)   \n",
       "3  Domaine l'Ancienne Cure 2010 L'Abbaye White (B...   \n",
       "4  Château du Cèdre 2012 Le Cèdre Vintage Malbec ...   \n",
       "\n",
       "                                  review_description            designation  \\\n",
       "0  Classic Chardonnay aromas of apple, pear and h...  Peace Family Vineyard   \n",
       "1  This wine is near equal parts Syrah and Merlot...                    NaN   \n",
       "2  Barolo Conca opens with inky dark concentratio...                  Conca   \n",
       "3  It's impressive what a small addition of Sauvi...               L'Abbaye   \n",
       "4  This ripe, sweet wine is rich and full of drie...       Le Cèdre Vintage   \n",
       "\n",
       "   points  price          province                 region_1         region_2  \\\n",
       "0      83   10.0   Australia Other  South Eastern Australia              NaN   \n",
       "1      89   15.0        Washington     Columbia Valley (WA)  Columbia Valley   \n",
       "2      94   80.0          Piedmont                   Barolo              NaN   \n",
       "3      87   22.0  Southwest France             Bergerac Sec              NaN   \n",
       "4      88   33.0      France Other           Vin de Liqueur              NaN   \n",
       "\n",
       "                    winery                     variety  \n",
       "0             Andrew Peace                  Chardonnay  \n",
       "1       North by Northwest                   Red Blend  \n",
       "2             Renato Ratti                    Nebbiolo  \n",
       "3  Domaine l'Ancienne Cure  Bordeaux-style White Blend  \n",
       "4         Château du Cèdre                      Malbec  "
      ]
     },
     "execution_count": 3,
     "metadata": {},
     "output_type": "execute_result"
    }
   ],
   "source": [
    "train.head()"
   ]
  },
  {
   "cell_type": "code",
   "execution_count": 4,
   "id": "2cc27682",
   "metadata": {},
   "outputs": [
    {
     "data": {
      "text/plain": [
       "Index(['user_name', 'country', 'review_title', 'review_description',\n",
       "       'designation', 'points', 'price', 'province', 'region_1', 'region_2',\n",
       "       'winery', 'variety'],\n",
       "      dtype='object')"
      ]
     },
     "execution_count": 4,
     "metadata": {},
     "output_type": "execute_result"
    }
   ],
   "source": [
    "train.columns"
   ]
  },
  {
   "cell_type": "code",
   "execution_count": 5,
   "id": "8aab9c48",
   "metadata": {},
   "outputs": [
    {
     "name": "stdout",
     "output_type": "stream",
     "text": [
      "<class 'pandas.core.frame.DataFrame'>\n",
      "RangeIndex: 82657 entries, 0 to 82656\n",
      "Data columns (total 12 columns):\n",
      " #   Column              Non-Null Count  Dtype  \n",
      "---  ------              --------------  -----  \n",
      " 0   user_name           63264 non-null  object \n",
      " 1   country             82622 non-null  object \n",
      " 2   review_title        82657 non-null  object \n",
      " 3   review_description  82657 non-null  object \n",
      " 4   designation         59010 non-null  object \n",
      " 5   points              82657 non-null  int64  \n",
      " 6   price               77088 non-null  float64\n",
      " 7   province            82622 non-null  object \n",
      " 8   region_1            69903 non-null  object \n",
      " 9   region_2            35949 non-null  object \n",
      " 10  winery              82657 non-null  object \n",
      " 11  variety             82657 non-null  object \n",
      "dtypes: float64(1), int64(1), object(10)\n",
      "memory usage: 7.6+ MB\n"
     ]
    }
   ],
   "source": [
    "train.info()"
   ]
  },
  {
   "cell_type": "code",
   "execution_count": 6,
   "id": "c80badc8",
   "metadata": {
    "scrolled": false
   },
   "outputs": [
    {
     "name": "stdout",
     "output_type": "stream",
     "text": [
      "<class 'pandas.core.frame.DataFrame'>\n",
      "RangeIndex: 20665 entries, 0 to 20664\n",
      "Data columns (total 11 columns):\n",
      " #   Column              Non-Null Count  Dtype  \n",
      "---  ------              --------------  -----  \n",
      " 0   user_name           15927 non-null  object \n",
      " 1   country             20661 non-null  object \n",
      " 2   review_title        20665 non-null  object \n",
      " 3   review_description  20665 non-null  object \n",
      " 4   designation         14676 non-null  object \n",
      " 5   points              20665 non-null  int64  \n",
      " 6   price               19271 non-null  float64\n",
      " 7   province            20661 non-null  object \n",
      " 8   region_1            17351 non-null  object \n",
      " 9   region_2            8914 non-null   object \n",
      " 10  winery              20665 non-null  object \n",
      "dtypes: float64(1), int64(1), object(9)\n",
      "memory usage: 1.7+ MB\n"
     ]
    }
   ],
   "source": [
    "test.info()"
   ]
  },
  {
   "cell_type": "code",
   "execution_count": 7,
   "id": "ec3813cc",
   "metadata": {
    "scrolled": true
   },
   "outputs": [
    {
     "data": {
      "text/plain": [
       "region_2              46708\n",
       "designation           23647\n",
       "user_name             19393\n",
       "region_1              12754\n",
       "price                  5569\n",
       "country                  35\n",
       "province                 35\n",
       "review_title              0\n",
       "review_description        0\n",
       "points                    0\n",
       "winery                    0\n",
       "variety                   0\n",
       "dtype: int64"
      ]
     },
     "execution_count": 7,
     "metadata": {},
     "output_type": "execute_result"
    }
   ],
   "source": [
    "train.isnull().sum().sort_values(ascending = False)"
   ]
  },
  {
   "cell_type": "code",
   "execution_count": 8,
   "id": "0c9173ad",
   "metadata": {},
   "outputs": [
    {
     "data": {
      "text/plain": [
       "<AxesSubplot:>"
      ]
     },
     "execution_count": 8,
     "metadata": {},
     "output_type": "execute_result"
    },
    {
     "data": {
      "image/png": "[encoded data removed]",
      "text/plain": [
       "<Figure size 432x288 with 2 Axes>"
      ]
     },
     "metadata": {
      "needs_background": "light"
     },
     "output_type": "display_data"
    }
   ],
   "source": [
    "sns.heatmap(train.isnull())"
   ]
  },
  {
   "cell_type": "code",
   "execution_count": 9,
   "id": "e1d9d863",
   "metadata": {
    "scrolled": true
   },
   "outputs": [
    {
     "data": {
      "text/plain": [
       "region_2              11751\n",
       "designation            5989\n",
       "user_name              4738\n",
       "region_1               3314\n",
       "price                  1394\n",
       "country                   4\n",
       "province                  4\n",
       "review_title              0\n",
       "review_description        0\n",
       "points                    0\n",
       "winery                    0\n",
       "dtype: int64"
      ]
     },
     "execution_count": 9,
     "metadata": {},
     "output_type": "execute_result"
    }
   ],
   "source": [
    "test.isnull().sum().sort_values(ascending = False)"
   ]
  },
  {
   "cell_type": "code",
   "execution_count": 10,
   "id": "a980c84c",
   "metadata": {
    "scrolled": true
   },
   "outputs": [
    {
     "data": {
      "text/plain": [
       "<AxesSubplot:>"
      ]
     },
     "execution_count": 10,
     "metadata": {},
     "output_type": "execute_result"
    },
    {
     "data": {
      "image/png": "[encoded data removed]",
      "text/plain": [
       "<Figure size 432x288 with 2 Axes>"
      ]
     },
     "metadata": {
      "needs_background": "light"
     },
     "output_type": "display_data"
    }
   ],
   "source": [
    "sns.heatmap(test.isnull())"
   ]
  },
  {
   "cell_type": "code",
   "execution_count": 11,
   "id": "e17d4873",
   "metadata": {},
   "outputs": [
    {
     "data": {
      "text/plain": [
       "20.0     4206\n",
       "15.0     3627\n",
       "25.0     3596\n",
       "30.0     3127\n",
       "18.0     2886\n",
       "         ... \n",
       "451.0       1\n",
       "276.0       1\n",
       "672.0       1\n",
       "455.0       1\n",
       "247.0       1\n",
       "Name: price, Length: 351, dtype: int64"
      ]
     },
     "execution_count": 11,
     "metadata": {},
     "output_type": "execute_result"
    }
   ],
   "source": [
    "train['price'].value_counts()"
   ]
  },
  {
   "cell_type": "code",
   "execution_count": 12,
   "id": "34769fa3",
   "metadata": {},
   "outputs": [
    {
     "data": {
      "text/plain": [
       "count    77088.000000\n",
       "mean        36.922232\n",
       "std         43.698346\n",
       "min          4.000000\n",
       "25%         18.000000\n",
       "50%         27.000000\n",
       "75%         45.000000\n",
       "max       3300.000000\n",
       "Name: price, dtype: float64"
      ]
     },
     "execution_count": 12,
     "metadata": {},
     "output_type": "execute_result"
    }
   ],
   "source": [
    "train['price'].describe()"
   ]
  },
  {
   "cell_type": "code",
   "execution_count": 13,
   "id": "fe4b550f",
   "metadata": {},
   "outputs": [],
   "source": [
    "train['price'].fillna(train['price'].median(), inplace=True)"
   ]
  },
  {
   "cell_type": "code",
   "execution_count": 14,
   "id": "cf5b0981",
   "metadata": {
    "scrolled": true
   },
   "outputs": [
    {
     "data": {
      "text/html": [
       "<div>\n",
       "<style scoped>\n",
       "    .dataframe tbody tr th:only-of-type {\n",
       "        vertical-align: middle;\n",
       "    }\n",
       "\n",
       "    .dataframe tbody tr th {\n",
       "        vertical-align: top;\n",
       "    }\n",
       "\n",
       "    .dataframe thead th {\n",
       "        text-align: right;\n",
       "    }\n",
       "</style>\n",
       "<table border=\"1\" class=\"dataframe\">\n",
       "  <thead>\n",
       "    <tr style=\"text-align: right;\">\n",
       "      <th></th>\n",
       "      <th>user_name</th>\n",
       "      <th>country</th>\n",
       "      <th>review_title</th>\n",
       "      <th>review_description</th>\n",
       "      <th>designation</th>\n",
       "      <th>province</th>\n",
       "      <th>region_1</th>\n",
       "      <th>region_2</th>\n",
       "      <th>winery</th>\n",
       "      <th>variety</th>\n",
       "    </tr>\n",
       "  </thead>\n",
       "  <tbody>\n",
       "    <tr>\n",
       "      <th>count</th>\n",
       "      <td>63264</td>\n",
       "      <td>82622</td>\n",
       "      <td>82657</td>\n",
       "      <td>82657</td>\n",
       "      <td>59010</td>\n",
       "      <td>82622</td>\n",
       "      <td>69903</td>\n",
       "      <td>35949</td>\n",
       "      <td>82657</td>\n",
       "      <td>82657</td>\n",
       "    </tr>\n",
       "    <tr>\n",
       "      <th>unique</th>\n",
       "      <td>15</td>\n",
       "      <td>38</td>\n",
       "      <td>76983</td>\n",
       "      <td>77628</td>\n",
       "      <td>26424</td>\n",
       "      <td>358</td>\n",
       "      <td>1019</td>\n",
       "      <td>17</td>\n",
       "      <td>13786</td>\n",
       "      <td>28</td>\n",
       "    </tr>\n",
       "    <tr>\n",
       "      <th>top</th>\n",
       "      <td>@vossroger</td>\n",
       "      <td>US</td>\n",
       "      <td>Korbel NV Brut Sparkling (California)</td>\n",
       "      <td>This single-vineyard Barolo shows ripe berry a...</td>\n",
       "      <td>Reserve</td>\n",
       "      <td>California</td>\n",
       "      <td>Napa Valley</td>\n",
       "      <td>Central Coast</td>\n",
       "      <td>Testarossa</td>\n",
       "      <td>Pinot Noir</td>\n",
       "    </tr>\n",
       "    <tr>\n",
       "      <th>freq</th>\n",
       "      <td>17539</td>\n",
       "      <td>38573</td>\n",
       "      <td>8</td>\n",
       "      <td>2</td>\n",
       "      <td>1382</td>\n",
       "      <td>25736</td>\n",
       "      <td>3334</td>\n",
       "      <td>7503</td>\n",
       "      <td>175</td>\n",
       "      <td>10587</td>\n",
       "    </tr>\n",
       "  </tbody>\n",
       "</table>\n",
       "</div>"
      ],
      "text/plain": [
       "         user_name country                           review_title  \\\n",
       "count        63264   82622                                  82657   \n",
       "unique          15      38                                  76983   \n",
       "top     @vossroger      US  Korbel NV Brut Sparkling (California)   \n",
       "freq         17539   38573                                      8   \n",
       "\n",
       "                                       review_description designation  \\\n",
       "count                                               82657       59010   \n",
       "unique                                              77628       26424   \n",
       "top     This single-vineyard Barolo shows ripe berry a...     Reserve   \n",
       "freq                                                    2        1382   \n",
       "\n",
       "          province     region_1       region_2      winery     variety  \n",
       "count        82622        69903          35949       82657       82657  \n",
       "unique         358         1019             17       13786          28  \n",
       "top     California  Napa Valley  Central Coast  Testarossa  Pinot Noir  \n",
       "freq         25736         3334           7503         175       10587  "
      ]
     },
     "execution_count": 14,
     "metadata": {},
     "output_type": "execute_result"
    }
   ],
   "source": [
    "train.describe(include='object')"
   ]
  },
  {
   "cell_type": "code",
   "execution_count": 56,
   "id": "9394f297",
   "metadata": {},
   "outputs": [
    {
     "data": {
      "text/plain": [
       "<AxesSubplot:>"
      ]
     },
     "execution_count": 56,
     "metadata": {},
     "output_type": "execute_result"
    },
    {
     "data": {
      "image/png": "[encoded data removed]",
      "text/plain": [
       "<Figure size 720x720 with 1 Axes>"
      ]
     },
     "metadata": {
      "needs_background": "light"
     },
     "output_type": "display_data"
    }
   ],
   "source": [
    "train['variety'].value_counts().plot.bar(figsize = (10, 10))"
   ]
  },
  {
   "cell_type": "code",
   "execution_count": 15,
   "id": "5177a9ef",
   "metadata": {},
   "outputs": [
    {
     "data": {
      "text/plain": [
       "user_name             19393\n",
       "country                  35\n",
       "review_title              0\n",
       "review_description        0\n",
       "designation           23647\n",
       "points                    0\n",
       "price                     0\n",
       "province                 35\n",
       "region_1              12754\n",
       "region_2              46708\n",
       "winery                    0\n",
       "variety                   0\n",
       "dtype: int64"
      ]
     },
     "execution_count": 15,
     "metadata": {},
     "output_type": "execute_result"
    }
   ],
   "source": [
    "train.isnull().sum()"
   ]
  },
  {
   "cell_type": "code",
   "execution_count": 16,
   "id": "95d147dd",
   "metadata": {},
   "outputs": [
    {
     "data": {
      "text/plain": [
       "count    82657.000000\n",
       "mean        88.544564\n",
       "std          3.099649\n",
       "min         80.000000\n",
       "25%         86.000000\n",
       "50%         88.000000\n",
       "75%         91.000000\n",
       "max        100.000000\n",
       "Name: points, dtype: float64"
      ]
     },
     "execution_count": 16,
     "metadata": {},
     "output_type": "execute_result"
    }
   ],
   "source": [
    "train['points'].describe()"
   ]
  },
  {
   "cell_type": "code",
   "execution_count": 17,
   "id": "8190cf5f",
   "metadata": {},
   "outputs": [
    {
     "data": {
      "text/plain": [
       "88     10504\n",
       "87     10306\n",
       "90      9929\n",
       "86      7641\n",
       "89      7495\n",
       "91      7421\n",
       "92      6412\n",
       "85      5999\n",
       "93      4522\n",
       "84      4174\n",
       "94      2704\n",
       "83      1951\n",
       "82      1184\n",
       "95      1094\n",
       "81       433\n",
       "96       382\n",
       "80       254\n",
       "97       166\n",
       "98        49\n",
       "99        25\n",
       "100       12\n",
       "Name: points, dtype: int64"
      ]
     },
     "execution_count": 17,
     "metadata": {},
     "output_type": "execute_result"
    }
   ],
   "source": [
    "train['points'].value_counts()"
   ]
  },
  {
   "cell_type": "code",
   "execution_count": 18,
   "id": "8cca3e18",
   "metadata": {
    "scrolled": true
   },
   "outputs": [
    {
     "data": {
      "text/plain": [
       "array(['Classic Chardonnay aromas of apple, pear and hay lead into a palate marked by decent intensity but also a bit of sweetness. Orange and candy notes run through the rather short finish.'],\n",
       "      dtype=object)"
      ]
     },
     "execution_count": 18,
     "metadata": {},
     "output_type": "execute_result"
    }
   ],
   "source": [
    "train.head(1)['review_description'].values"
   ]
  },
  {
   "cell_type": "markdown",
   "id": "dd9fab71",
   "metadata": {},
   "source": [
    "# 4. Input Data "
   ]
  },
  {
   "cell_type": "code",
   "execution_count": 19,
   "id": "32470d1a",
   "metadata": {},
   "outputs": [],
   "source": [
    "train['source'] = 'train'\n",
    "test['source'] = 'test'"
   ]
  },
  {
   "cell_type": "code",
   "execution_count": 20,
   "id": "729fc004",
   "metadata": {},
   "outputs": [],
   "source": [
    "winedata = pd.concat([train, test])"
   ]
  },
  {
   "cell_type": "code",
   "execution_count": 21,
   "id": "a0fa5147",
   "metadata": {
    "scrolled": true
   },
   "outputs": [
    {
     "data": {
      "text/html": [
       "<div>\n",
       "<style scoped>\n",
       "    .dataframe tbody tr th:only-of-type {\n",
       "        vertical-align: middle;\n",
       "    }\n",
       "\n",
       "    .dataframe tbody tr th {\n",
       "        vertical-align: top;\n",
       "    }\n",
       "\n",
       "    .dataframe thead th {\n",
       "        text-align: right;\n",
       "    }\n",
       "</style>\n",
       "<table border=\"1\" class=\"dataframe\">\n",
       "  <thead>\n",
       "    <tr style=\"text-align: right;\">\n",
       "      <th></th>\n",
       "      <th>user_name</th>\n",
       "      <th>country</th>\n",
       "      <th>review_title</th>\n",
       "      <th>review_description</th>\n",
       "      <th>designation</th>\n",
       "      <th>points</th>\n",
       "      <th>price</th>\n",
       "      <th>province</th>\n",
       "      <th>region_1</th>\n",
       "      <th>region_2</th>\n",
       "      <th>winery</th>\n",
       "      <th>variety</th>\n",
       "      <th>source</th>\n",
       "    </tr>\n",
       "  </thead>\n",
       "  <tbody>\n",
       "    <tr>\n",
       "      <th>0</th>\n",
       "      <td>NaN</td>\n",
       "      <td>Australia</td>\n",
       "      <td>Andrew Peace 2007 Peace Family Vineyard Chardo...</td>\n",
       "      <td>Classic Chardonnay aromas of apple, pear and h...</td>\n",
       "      <td>Peace Family Vineyard</td>\n",
       "      <td>83</td>\n",
       "      <td>10.0</td>\n",
       "      <td>Australia Other</td>\n",
       "      <td>South Eastern Australia</td>\n",
       "      <td>NaN</td>\n",
       "      <td>Andrew Peace</td>\n",
       "      <td>Chardonnay</td>\n",
       "      <td>train</td>\n",
       "    </tr>\n",
       "    <tr>\n",
       "      <th>1</th>\n",
       "      <td>@wawinereport</td>\n",
       "      <td>US</td>\n",
       "      <td>North by Northwest 2014 Red (Columbia Valley (...</td>\n",
       "      <td>This wine is near equal parts Syrah and Merlot...</td>\n",
       "      <td>NaN</td>\n",
       "      <td>89</td>\n",
       "      <td>15.0</td>\n",
       "      <td>Washington</td>\n",
       "      <td>Columbia Valley (WA)</td>\n",
       "      <td>Columbia Valley</td>\n",
       "      <td>North by Northwest</td>\n",
       "      <td>Red Blend</td>\n",
       "      <td>train</td>\n",
       "    </tr>\n",
       "    <tr>\n",
       "      <th>2</th>\n",
       "      <td>NaN</td>\n",
       "      <td>Italy</td>\n",
       "      <td>Renato Ratti 2007 Conca  (Barolo)</td>\n",
       "      <td>Barolo Conca opens with inky dark concentratio...</td>\n",
       "      <td>Conca</td>\n",
       "      <td>94</td>\n",
       "      <td>80.0</td>\n",
       "      <td>Piedmont</td>\n",
       "      <td>Barolo</td>\n",
       "      <td>NaN</td>\n",
       "      <td>Renato Ratti</td>\n",
       "      <td>Nebbiolo</td>\n",
       "      <td>train</td>\n",
       "    </tr>\n",
       "    <tr>\n",
       "      <th>3</th>\n",
       "      <td>@vossroger</td>\n",
       "      <td>France</td>\n",
       "      <td>Domaine l'Ancienne Cure 2010 L'Abbaye White (B...</td>\n",
       "      <td>It's impressive what a small addition of Sauvi...</td>\n",
       "      <td>L'Abbaye</td>\n",
       "      <td>87</td>\n",
       "      <td>22.0</td>\n",
       "      <td>Southwest France</td>\n",
       "      <td>Bergerac Sec</td>\n",
       "      <td>NaN</td>\n",
       "      <td>Domaine l'Ancienne Cure</td>\n",
       "      <td>Bordeaux-style White Blend</td>\n",
       "      <td>train</td>\n",
       "    </tr>\n",
       "    <tr>\n",
       "      <th>4</th>\n",
       "      <td>@vossroger</td>\n",
       "      <td>France</td>\n",
       "      <td>Château du Cèdre 2012 Le Cèdre Vintage Malbec ...</td>\n",
       "      <td>This ripe, sweet wine is rich and full of drie...</td>\n",
       "      <td>Le Cèdre Vintage</td>\n",
       "      <td>88</td>\n",
       "      <td>33.0</td>\n",
       "      <td>France Other</td>\n",
       "      <td>Vin de Liqueur</td>\n",
       "      <td>NaN</td>\n",
       "      <td>Château du Cèdre</td>\n",
       "      <td>Malbec</td>\n",
       "      <td>train</td>\n",
       "    </tr>\n",
       "    <tr>\n",
       "      <th>...</th>\n",
       "      <td>...</td>\n",
       "      <td>...</td>\n",
       "      <td>...</td>\n",
       "      <td>...</td>\n",
       "      <td>...</td>\n",
       "      <td>...</td>\n",
       "      <td>...</td>\n",
       "      <td>...</td>\n",
       "      <td>...</td>\n",
       "      <td>...</td>\n",
       "      <td>...</td>\n",
       "      <td>...</td>\n",
       "      <td>...</td>\n",
       "    </tr>\n",
       "    <tr>\n",
       "      <th>20660</th>\n",
       "      <td>@gordone_cellars</td>\n",
       "      <td>US</td>\n",
       "      <td>Yorkville Cellars 2013 Rennie Vineyard Caberne...</td>\n",
       "      <td>Clearly focused and fruit-driven, this wine ha...</td>\n",
       "      <td>Rennie Vineyard</td>\n",
       "      <td>91</td>\n",
       "      <td>34.0</td>\n",
       "      <td>California</td>\n",
       "      <td>Yorkville Highlands</td>\n",
       "      <td>North Coast</td>\n",
       "      <td>Yorkville Cellars</td>\n",
       "      <td>NaN</td>\n",
       "      <td>test</td>\n",
       "    </tr>\n",
       "    <tr>\n",
       "      <th>20661</th>\n",
       "      <td>@laurbuzz</td>\n",
       "      <td>France</td>\n",
       "      <td>Château Ribaute 2015 Senhal d'Aric Rosé (Corbi...</td>\n",
       "      <td>Herbal tones of bay and rosemary are upfront o...</td>\n",
       "      <td>Senhal d'Aric</td>\n",
       "      <td>84</td>\n",
       "      <td>20.0</td>\n",
       "      <td>Languedoc-Roussillon</td>\n",
       "      <td>Corbières</td>\n",
       "      <td>NaN</td>\n",
       "      <td>Château Ribaute</td>\n",
       "      <td>NaN</td>\n",
       "      <td>test</td>\n",
       "    </tr>\n",
       "    <tr>\n",
       "      <th>20662</th>\n",
       "      <td>@mattkettmann</td>\n",
       "      <td>US</td>\n",
       "      <td>Daou 2014 Reserve Cabernet Sauvignon (Paso Rob...</td>\n",
       "      <td>Mocha cream, pencil shaving and dried herb aro...</td>\n",
       "      <td>Reserve</td>\n",
       "      <td>94</td>\n",
       "      <td>85.0</td>\n",
       "      <td>California</td>\n",
       "      <td>Paso Robles</td>\n",
       "      <td>Central Coast</td>\n",
       "      <td>Daou</td>\n",
       "      <td>NaN</td>\n",
       "      <td>test</td>\n",
       "    </tr>\n",
       "    <tr>\n",
       "      <th>20663</th>\n",
       "      <td>@wineschach</td>\n",
       "      <td>Spain</td>\n",
       "      <td>Peñascal 2011 Tempranillo Rosé (Vino de la Tie...</td>\n",
       "      <td>Loud citrus and berry aromas precede an overlo...</td>\n",
       "      <td>Tempranillo</td>\n",
       "      <td>80</td>\n",
       "      <td>9.0</td>\n",
       "      <td>Northern Spain</td>\n",
       "      <td>Vino de la Tierra de Castilla y León</td>\n",
       "      <td>NaN</td>\n",
       "      <td>Peñascal</td>\n",
       "      <td>NaN</td>\n",
       "      <td>test</td>\n",
       "    </tr>\n",
       "    <tr>\n",
       "      <th>20664</th>\n",
       "      <td>NaN</td>\n",
       "      <td>US</td>\n",
       "      <td>Langtry 2005 Tephra Ridge Vineyard Cabernet Sa...</td>\n",
       "      <td>With very ripe fruit and firm tannins, this mo...</td>\n",
       "      <td>Tephra Ridge Vineyard</td>\n",
       "      <td>87</td>\n",
       "      <td>40.0</td>\n",
       "      <td>California</td>\n",
       "      <td>Lake County</td>\n",
       "      <td>NaN</td>\n",
       "      <td>Langtry</td>\n",
       "      <td>NaN</td>\n",
       "      <td>test</td>\n",
       "    </tr>\n",
       "  </tbody>\n",
       "</table>\n",
       "<p>103322 rows × 13 columns</p>\n",
       "</div>"
      ],
      "text/plain": [
       "              user_name    country  \\\n",
       "0                   NaN  Australia   \n",
       "1         @wawinereport         US   \n",
       "2                   NaN      Italy   \n",
       "3            @vossroger     France   \n",
       "4            @vossroger     France   \n",
       "...                 ...        ...   \n",
       "20660  @gordone_cellars         US   \n",
       "20661         @laurbuzz     France   \n",
       "20662     @mattkettmann         US   \n",
       "20663       @wineschach      Spain   \n",
       "20664               NaN         US   \n",
       "\n",
       "                                            review_title  \\\n",
       "0      Andrew Peace 2007 Peace Family Vineyard Chardo...   \n",
       "1      North by Northwest 2014 Red (Columbia Valley (...   \n",
       "2                      Renato Ratti 2007 Conca  (Barolo)   \n",
       "3      Domaine l'Ancienne Cure 2010 L'Abbaye White (B...   \n",
       "4      Château du Cèdre 2012 Le Cèdre Vintage Malbec ...   \n",
       "...                                                  ...   \n",
       "20660  Yorkville Cellars 2013 Rennie Vineyard Caberne...   \n",
       "20661  Château Ribaute 2015 Senhal d'Aric Rosé (Corbi...   \n",
       "20662  Daou 2014 Reserve Cabernet Sauvignon (Paso Rob...   \n",
       "20663  Peñascal 2011 Tempranillo Rosé (Vino de la Tie...   \n",
       "20664  Langtry 2005 Tephra Ridge Vineyard Cabernet Sa...   \n",
       "\n",
       "                                      review_description  \\\n",
       "0      Classic Chardonnay aromas of apple, pear and h...   \n",
       "1      This wine is near equal parts Syrah and Merlot...   \n",
       "2      Barolo Conca opens with inky dark concentratio...   \n",
       "3      It's impressive what a small addition of Sauvi...   \n",
       "4      This ripe, sweet wine is rich and full of drie...   \n",
       "...                                                  ...   \n",
       "20660  Clearly focused and fruit-driven, this wine ha...   \n",
       "20661  Herbal tones of bay and rosemary are upfront o...   \n",
       "20662  Mocha cream, pencil shaving and dried herb aro...   \n",
       "20663  Loud citrus and berry aromas precede an overlo...   \n",
       "20664  With very ripe fruit and firm tannins, this mo...   \n",
       "\n",
       "                 designation  points  price              province  \\\n",
       "0      Peace Family Vineyard      83   10.0       Australia Other   \n",
       "1                        NaN      89   15.0            Washington   \n",
       "2                      Conca      94   80.0              Piedmont   \n",
       "3                   L'Abbaye      87   22.0      Southwest France   \n",
       "4           Le Cèdre Vintage      88   33.0          France Other   \n",
       "...                      ...     ...    ...                   ...   \n",
       "20660        Rennie Vineyard      91   34.0            California   \n",
       "20661          Senhal d'Aric      84   20.0  Languedoc-Roussillon   \n",
       "20662                Reserve      94   85.0            California   \n",
       "20663            Tempranillo      80    9.0        Northern Spain   \n",
       "20664  Tephra Ridge Vineyard      87   40.0            California   \n",
       "\n",
       "                                   region_1         region_2  \\\n",
       "0                   South Eastern Australia              NaN   \n",
       "1                      Columbia Valley (WA)  Columbia Valley   \n",
       "2                                    Barolo              NaN   \n",
       "3                              Bergerac Sec              NaN   \n",
       "4                            Vin de Liqueur              NaN   \n",
       "...                                     ...              ...   \n",
       "20660                   Yorkville Highlands      North Coast   \n",
       "20661                             Corbières              NaN   \n",
       "20662                           Paso Robles    Central Coast   \n",
       "20663  Vino de la Tierra de Castilla y León              NaN   \n",
       "20664                           Lake County              NaN   \n",
       "\n",
       "                        winery                     variety source  \n",
       "0                 Andrew Peace                  Chardonnay  train  \n",
       "1           North by Northwest                   Red Blend  train  \n",
       "2                 Renato Ratti                    Nebbiolo  train  \n",
       "3      Domaine l'Ancienne Cure  Bordeaux-style White Blend  train  \n",
       "4             Château du Cèdre                      Malbec  train  \n",
       "...                        ...                         ...    ...  \n",
       "20660        Yorkville Cellars                         NaN   test  \n",
       "20661          Château Ribaute                         NaN   test  \n",
       "20662                     Daou                         NaN   test  \n",
       "20663                 Peñascal                         NaN   test  \n",
       "20664                  Langtry                         NaN   test  \n",
       "\n",
       "[103322 rows x 13 columns]"
      ]
     },
     "execution_count": 21,
     "metadata": {},
     "output_type": "execute_result"
    }
   ],
   "source": [
    "winedata"
   ]
  },
  {
   "cell_type": "code",
   "execution_count": null,
   "id": "bcba9c02",
   "metadata": {},
   "outputs": [],
   "source": []
  },
  {
   "cell_type": "code",
   "execution_count": 22,
   "id": "d1e033b1",
   "metadata": {},
   "outputs": [
    {
     "data": {
      "text/plain": [
       "region_2              58459\n",
       "designation           29636\n",
       "user_name             24131\n",
       "variety               20665\n",
       "region_1              16068\n",
       "price                  1394\n",
       "country                  39\n",
       "province                 39\n",
       "review_title              0\n",
       "review_description        0\n",
       "points                    0\n",
       "winery                    0\n",
       "source                    0\n",
       "dtype: int64"
      ]
     },
     "execution_count": 22,
     "metadata": {},
     "output_type": "execute_result"
    }
   ],
   "source": [
    "winedata.isnull().sum().sort_values(ascending = False)"
   ]
  },
  {
   "cell_type": "code",
   "execution_count": 23,
   "id": "b61b8030",
   "metadata": {
    "scrolled": true
   },
   "outputs": [
    {
     "data": {
      "text/plain": [
       "<AxesSubplot:>"
      ]
     },
     "execution_count": 23,
     "metadata": {},
     "output_type": "execute_result"
    },
    {
     "data": {
      "image/png": "[encoded data removed]",
      "text/plain": [
       "<Figure size 432x288 with 2 Axes>"
      ]
     },
     "metadata": {
      "needs_background": "light"
     },
     "output_type": "display_data"
    }
   ],
   "source": [
    "sns.heatmap(winedata.isnull())"
   ]
  },
  {
   "cell_type": "code",
   "execution_count": 24,
   "id": "a1236e38",
   "metadata": {
    "scrolled": true
   },
   "outputs": [
    {
     "data": {
      "text/html": [
       "<div>\n",
       "<style scoped>\n",
       "    .dataframe tbody tr th:only-of-type {\n",
       "        vertical-align: middle;\n",
       "    }\n",
       "\n",
       "    .dataframe tbody tr th {\n",
       "        vertical-align: top;\n",
       "    }\n",
       "\n",
       "    .dataframe thead th {\n",
       "        text-align: right;\n",
       "    }\n",
       "</style>\n",
       "<table border=\"1\" class=\"dataframe\">\n",
       "  <thead>\n",
       "    <tr style=\"text-align: right;\">\n",
       "      <th></th>\n",
       "      <th>points</th>\n",
       "      <th>price</th>\n",
       "    </tr>\n",
       "  </thead>\n",
       "  <tbody>\n",
       "    <tr>\n",
       "      <th>points</th>\n",
       "      <td>1.00000</td>\n",
       "      <td>0.40191</td>\n",
       "    </tr>\n",
       "    <tr>\n",
       "      <th>price</th>\n",
       "      <td>0.40191</td>\n",
       "      <td>1.00000</td>\n",
       "    </tr>\n",
       "  </tbody>\n",
       "</table>\n",
       "</div>"
      ],
      "text/plain": [
       "         points    price\n",
       "points  1.00000  0.40191\n",
       "price   0.40191  1.00000"
      ]
     },
     "execution_count": 24,
     "metadata": {},
     "output_type": "execute_result"
    }
   ],
   "source": [
    "corr=winedata.corr()\n",
    "corr"
   ]
  },
  {
   "cell_type": "code",
   "execution_count": 25,
   "id": "96be13fe",
   "metadata": {},
   "outputs": [
    {
     "data": {
      "text/plain": [
       "<AxesSubplot:>"
      ]
     },
     "execution_count": 25,
     "metadata": {},
     "output_type": "execute_result"
    },
    {
     "data": {
      "image/png": "[encoded data removed]",
      "text/plain": [
       "<Figure size 432x288 with 2 Axes>"
      ]
     },
     "metadata": {
      "needs_background": "light"
     },
     "output_type": "display_data"
    }
   ],
   "source": [
    "sns.heatmap(corr)"
   ]
  },
  {
   "cell_type": "code",
   "execution_count": 26,
   "id": "fca46d9b",
   "metadata": {},
   "outputs": [
    {
     "data": {
      "text/plain": [
       "Index(['user_name', 'country', 'review_title', 'review_description',\n",
       "       'designation', 'points', 'price', 'province', 'region_1', 'region_2',\n",
       "       'winery', 'variety', 'source'],\n",
       "      dtype='object')"
      ]
     },
     "execution_count": 26,
     "metadata": {},
     "output_type": "execute_result"
    }
   ],
   "source": [
    "winedata.columns"
   ]
  },
  {
   "cell_type": "code",
   "execution_count": 27,
   "id": "ae937dea",
   "metadata": {},
   "outputs": [],
   "source": [
    "# drop high null values columns\n",
    "winedata_new=winedata[['country','review_title','review_description','points','province','winery','variety','source']]"
   ]
  },
  {
   "cell_type": "code",
   "execution_count": 28,
   "id": "1e8ec024",
   "metadata": {},
   "outputs": [],
   "source": [
    "# Drop null values from country and province\n",
    "winedata_new.dropna(subset=['country'],inplace=True)"
   ]
  },
  {
   "cell_type": "code",
   "execution_count": 29,
   "id": "3880aa28",
   "metadata": {},
   "outputs": [
    {
     "data": {
      "text/plain": [
       "variety               20661\n",
       "country                   0\n",
       "review_title              0\n",
       "review_description        0\n",
       "points                    0\n",
       "province                  0\n",
       "winery                    0\n",
       "source                    0\n",
       "dtype: int64"
      ]
     },
     "execution_count": 29,
     "metadata": {},
     "output_type": "execute_result"
    }
   ],
   "source": [
    "winedata_new.isnull().sum().sort_values(ascending = False)"
   ]
  },
  {
   "cell_type": "code",
   "execution_count": 30,
   "id": "b8b1a960",
   "metadata": {},
   "outputs": [
    {
     "data": {
      "text/html": [
       "<div>\n",
       "<style scoped>\n",
       "    .dataframe tbody tr th:only-of-type {\n",
       "        vertical-align: middle;\n",
       "    }\n",
       "\n",
       "    .dataframe tbody tr th {\n",
       "        vertical-align: top;\n",
       "    }\n",
       "\n",
       "    .dataframe thead th {\n",
       "        text-align: right;\n",
       "    }\n",
       "</style>\n",
       "<table border=\"1\" class=\"dataframe\">\n",
       "  <thead>\n",
       "    <tr style=\"text-align: right;\">\n",
       "      <th></th>\n",
       "      <th>country</th>\n",
       "      <th>review_title</th>\n",
       "      <th>review_description</th>\n",
       "      <th>points</th>\n",
       "      <th>province</th>\n",
       "      <th>winery</th>\n",
       "      <th>variety</th>\n",
       "      <th>source</th>\n",
       "    </tr>\n",
       "  </thead>\n",
       "  <tbody>\n",
       "    <tr>\n",
       "      <th>0</th>\n",
       "      <td>Australia</td>\n",
       "      <td>Andrew Peace 2007 Peace Family Vineyard Chardo...</td>\n",
       "      <td>Classic Chardonnay aromas of apple, pear and h...</td>\n",
       "      <td>83</td>\n",
       "      <td>Australia Other</td>\n",
       "      <td>Andrew Peace</td>\n",
       "      <td>Chardonnay</td>\n",
       "      <td>train</td>\n",
       "    </tr>\n",
       "    <tr>\n",
       "      <th>1</th>\n",
       "      <td>US</td>\n",
       "      <td>North by Northwest 2014 Red (Columbia Valley (...</td>\n",
       "      <td>This wine is near equal parts Syrah and Merlot...</td>\n",
       "      <td>89</td>\n",
       "      <td>Washington</td>\n",
       "      <td>North by Northwest</td>\n",
       "      <td>Red Blend</td>\n",
       "      <td>train</td>\n",
       "    </tr>\n",
       "    <tr>\n",
       "      <th>2</th>\n",
       "      <td>Italy</td>\n",
       "      <td>Renato Ratti 2007 Conca  (Barolo)</td>\n",
       "      <td>Barolo Conca opens with inky dark concentratio...</td>\n",
       "      <td>94</td>\n",
       "      <td>Piedmont</td>\n",
       "      <td>Renato Ratti</td>\n",
       "      <td>Nebbiolo</td>\n",
       "      <td>train</td>\n",
       "    </tr>\n",
       "    <tr>\n",
       "      <th>3</th>\n",
       "      <td>France</td>\n",
       "      <td>Domaine l'Ancienne Cure 2010 L'Abbaye White (B...</td>\n",
       "      <td>It's impressive what a small addition of Sauvi...</td>\n",
       "      <td>87</td>\n",
       "      <td>Southwest France</td>\n",
       "      <td>Domaine l'Ancienne Cure</td>\n",
       "      <td>Bordeaux-style White Blend</td>\n",
       "      <td>train</td>\n",
       "    </tr>\n",
       "    <tr>\n",
       "      <th>4</th>\n",
       "      <td>France</td>\n",
       "      <td>Château du Cèdre 2012 Le Cèdre Vintage Malbec ...</td>\n",
       "      <td>This ripe, sweet wine is rich and full of drie...</td>\n",
       "      <td>88</td>\n",
       "      <td>France Other</td>\n",
       "      <td>Château du Cèdre</td>\n",
       "      <td>Malbec</td>\n",
       "      <td>train</td>\n",
       "    </tr>\n",
       "  </tbody>\n",
       "</table>\n",
       "</div>"
      ],
      "text/plain": [
       "     country                                       review_title  \\\n",
       "0  Australia  Andrew Peace 2007 Peace Family Vineyard Chardo...   \n",
       "1         US  North by Northwest 2014 Red (Columbia Valley (...   \n",
       "2      Italy                  Renato Ratti 2007 Conca  (Barolo)   \n",
       "3     France  Domaine l'Ancienne Cure 2010 L'Abbaye White (B...   \n",
       "4     France  Château du Cèdre 2012 Le Cèdre Vintage Malbec ...   \n",
       "\n",
       "                                  review_description  points  \\\n",
       "0  Classic Chardonnay aromas of apple, pear and h...      83   \n",
       "1  This wine is near equal parts Syrah and Merlot...      89   \n",
       "2  Barolo Conca opens with inky dark concentratio...      94   \n",
       "3  It's impressive what a small addition of Sauvi...      87   \n",
       "4  This ripe, sweet wine is rich and full of drie...      88   \n",
       "\n",
       "           province                   winery                     variety  \\\n",
       "0   Australia Other             Andrew Peace                  Chardonnay   \n",
       "1        Washington       North by Northwest                   Red Blend   \n",
       "2          Piedmont             Renato Ratti                    Nebbiolo   \n",
       "3  Southwest France  Domaine l'Ancienne Cure  Bordeaux-style White Blend   \n",
       "4      France Other         Château du Cèdre                      Malbec   \n",
       "\n",
       "  source  \n",
       "0  train  \n",
       "1  train  \n",
       "2  train  \n",
       "3  train  \n",
       "4  train  "
      ]
     },
     "execution_count": 30,
     "metadata": {},
     "output_type": "execute_result"
    }
   ],
   "source": [
    "winedata_new.head()"
   ]
  },
  {
   "cell_type": "code",
   "execution_count": 31,
   "id": "6bf4f05c",
   "metadata": {},
   "outputs": [],
   "source": [
    "winedata_new[\"detail\"]=winedata_new['country'] + winedata_new['province'] + winedata_new['winery'] + winedata_new['review_title'] + winedata_new['review_description']"
   ]
  },
  {
   "cell_type": "code",
   "execution_count": 32,
   "id": "efa7ed36",
   "metadata": {
    "scrolled": true
   },
   "outputs": [
    {
     "data": {
      "text/html": [
       "<div>\n",
       "<style scoped>\n",
       "    .dataframe tbody tr th:only-of-type {\n",
       "        vertical-align: middle;\n",
       "    }\n",
       "\n",
       "    .dataframe tbody tr th {\n",
       "        vertical-align: top;\n",
       "    }\n",
       "\n",
       "    .dataframe thead th {\n",
       "        text-align: right;\n",
       "    }\n",
       "</style>\n",
       "<table border=\"1\" class=\"dataframe\">\n",
       "  <thead>\n",
       "    <tr style=\"text-align: right;\">\n",
       "      <th></th>\n",
       "      <th>country</th>\n",
       "      <th>review_title</th>\n",
       "      <th>review_description</th>\n",
       "      <th>points</th>\n",
       "      <th>province</th>\n",
       "      <th>winery</th>\n",
       "      <th>variety</th>\n",
       "      <th>source</th>\n",
       "      <th>detail</th>\n",
       "    </tr>\n",
       "  </thead>\n",
       "  <tbody>\n",
       "    <tr>\n",
       "      <th>0</th>\n",
       "      <td>Australia</td>\n",
       "      <td>Andrew Peace 2007 Peace Family Vineyard Chardo...</td>\n",
       "      <td>Classic Chardonnay aromas of apple, pear and h...</td>\n",
       "      <td>83</td>\n",
       "      <td>Australia Other</td>\n",
       "      <td>Andrew Peace</td>\n",
       "      <td>Chardonnay</td>\n",
       "      <td>train</td>\n",
       "      <td>AustraliaAustralia OtherAndrew PeaceAndrew Pea...</td>\n",
       "    </tr>\n",
       "    <tr>\n",
       "      <th>1</th>\n",
       "      <td>US</td>\n",
       "      <td>North by Northwest 2014 Red (Columbia Valley (...</td>\n",
       "      <td>This wine is near equal parts Syrah and Merlot...</td>\n",
       "      <td>89</td>\n",
       "      <td>Washington</td>\n",
       "      <td>North by Northwest</td>\n",
       "      <td>Red Blend</td>\n",
       "      <td>train</td>\n",
       "      <td>USWashingtonNorth by NorthwestNorth by Northwe...</td>\n",
       "    </tr>\n",
       "    <tr>\n",
       "      <th>2</th>\n",
       "      <td>Italy</td>\n",
       "      <td>Renato Ratti 2007 Conca  (Barolo)</td>\n",
       "      <td>Barolo Conca opens with inky dark concentratio...</td>\n",
       "      <td>94</td>\n",
       "      <td>Piedmont</td>\n",
       "      <td>Renato Ratti</td>\n",
       "      <td>Nebbiolo</td>\n",
       "      <td>train</td>\n",
       "      <td>ItalyPiedmontRenato RattiRenato Ratti 2007 Con...</td>\n",
       "    </tr>\n",
       "    <tr>\n",
       "      <th>3</th>\n",
       "      <td>France</td>\n",
       "      <td>Domaine l'Ancienne Cure 2010 L'Abbaye White (B...</td>\n",
       "      <td>It's impressive what a small addition of Sauvi...</td>\n",
       "      <td>87</td>\n",
       "      <td>Southwest France</td>\n",
       "      <td>Domaine l'Ancienne Cure</td>\n",
       "      <td>Bordeaux-style White Blend</td>\n",
       "      <td>train</td>\n",
       "      <td>FranceSouthwest FranceDomaine l'Ancienne CureD...</td>\n",
       "    </tr>\n",
       "    <tr>\n",
       "      <th>4</th>\n",
       "      <td>France</td>\n",
       "      <td>Château du Cèdre 2012 Le Cèdre Vintage Malbec ...</td>\n",
       "      <td>This ripe, sweet wine is rich and full of drie...</td>\n",
       "      <td>88</td>\n",
       "      <td>France Other</td>\n",
       "      <td>Château du Cèdre</td>\n",
       "      <td>Malbec</td>\n",
       "      <td>train</td>\n",
       "      <td>FranceFrance OtherChâteau du CèdreChâteau du C...</td>\n",
       "    </tr>\n",
       "    <tr>\n",
       "      <th>...</th>\n",
       "      <td>...</td>\n",
       "      <td>...</td>\n",
       "      <td>...</td>\n",
       "      <td>...</td>\n",
       "      <td>...</td>\n",
       "      <td>...</td>\n",
       "      <td>...</td>\n",
       "      <td>...</td>\n",
       "      <td>...</td>\n",
       "    </tr>\n",
       "    <tr>\n",
       "      <th>20660</th>\n",
       "      <td>US</td>\n",
       "      <td>Yorkville Cellars 2013 Rennie Vineyard Caberne...</td>\n",
       "      <td>Clearly focused and fruit-driven, this wine ha...</td>\n",
       "      <td>91</td>\n",
       "      <td>California</td>\n",
       "      <td>Yorkville Cellars</td>\n",
       "      <td>NaN</td>\n",
       "      <td>test</td>\n",
       "      <td>USCaliforniaYorkville CellarsYorkville Cellars...</td>\n",
       "    </tr>\n",
       "    <tr>\n",
       "      <th>20661</th>\n",
       "      <td>France</td>\n",
       "      <td>Château Ribaute 2015 Senhal d'Aric Rosé (Corbi...</td>\n",
       "      <td>Herbal tones of bay and rosemary are upfront o...</td>\n",
       "      <td>84</td>\n",
       "      <td>Languedoc-Roussillon</td>\n",
       "      <td>Château Ribaute</td>\n",
       "      <td>NaN</td>\n",
       "      <td>test</td>\n",
       "      <td>FranceLanguedoc-RoussillonChâteau RibauteChâte...</td>\n",
       "    </tr>\n",
       "    <tr>\n",
       "      <th>20662</th>\n",
       "      <td>US</td>\n",
       "      <td>Daou 2014 Reserve Cabernet Sauvignon (Paso Rob...</td>\n",
       "      <td>Mocha cream, pencil shaving and dried herb aro...</td>\n",
       "      <td>94</td>\n",
       "      <td>California</td>\n",
       "      <td>Daou</td>\n",
       "      <td>NaN</td>\n",
       "      <td>test</td>\n",
       "      <td>USCaliforniaDaouDaou 2014 Reserve Cabernet Sau...</td>\n",
       "    </tr>\n",
       "    <tr>\n",
       "      <th>20663</th>\n",
       "      <td>Spain</td>\n",
       "      <td>Peñascal 2011 Tempranillo Rosé (Vino de la Tie...</td>\n",
       "      <td>Loud citrus and berry aromas precede an overlo...</td>\n",
       "      <td>80</td>\n",
       "      <td>Northern Spain</td>\n",
       "      <td>Peñascal</td>\n",
       "      <td>NaN</td>\n",
       "      <td>test</td>\n",
       "      <td>SpainNorthern SpainPeñascalPeñascal 2011 Tempr...</td>\n",
       "    </tr>\n",
       "    <tr>\n",
       "      <th>20664</th>\n",
       "      <td>US</td>\n",
       "      <td>Langtry 2005 Tephra Ridge Vineyard Cabernet Sa...</td>\n",
       "      <td>With very ripe fruit and firm tannins, this mo...</td>\n",
       "      <td>87</td>\n",
       "      <td>California</td>\n",
       "      <td>Langtry</td>\n",
       "      <td>NaN</td>\n",
       "      <td>test</td>\n",
       "      <td>USCaliforniaLangtryLangtry 2005 Tephra Ridge V...</td>\n",
       "    </tr>\n",
       "  </tbody>\n",
       "</table>\n",
       "<p>103283 rows × 9 columns</p>\n",
       "</div>"
      ],
      "text/plain": [
       "         country                                       review_title  \\\n",
       "0      Australia  Andrew Peace 2007 Peace Family Vineyard Chardo...   \n",
       "1             US  North by Northwest 2014 Red (Columbia Valley (...   \n",
       "2          Italy                  Renato Ratti 2007 Conca  (Barolo)   \n",
       "3         France  Domaine l'Ancienne Cure 2010 L'Abbaye White (B...   \n",
       "4         France  Château du Cèdre 2012 Le Cèdre Vintage Malbec ...   \n",
       "...          ...                                                ...   \n",
       "20660         US  Yorkville Cellars 2013 Rennie Vineyard Caberne...   \n",
       "20661     France  Château Ribaute 2015 Senhal d'Aric Rosé (Corbi...   \n",
       "20662         US  Daou 2014 Reserve Cabernet Sauvignon (Paso Rob...   \n",
       "20663      Spain  Peñascal 2011 Tempranillo Rosé (Vino de la Tie...   \n",
       "20664         US  Langtry 2005 Tephra Ridge Vineyard Cabernet Sa...   \n",
       "\n",
       "                                      review_description  points  \\\n",
       "0      Classic Chardonnay aromas of apple, pear and h...      83   \n",
       "1      This wine is near equal parts Syrah and Merlot...      89   \n",
       "2      Barolo Conca opens with inky dark concentratio...      94   \n",
       "3      It's impressive what a small addition of Sauvi...      87   \n",
       "4      This ripe, sweet wine is rich and full of drie...      88   \n",
       "...                                                  ...     ...   \n",
       "20660  Clearly focused and fruit-driven, this wine ha...      91   \n",
       "20661  Herbal tones of bay and rosemary are upfront o...      84   \n",
       "20662  Mocha cream, pencil shaving and dried herb aro...      94   \n",
       "20663  Loud citrus and berry aromas precede an overlo...      80   \n",
       "20664  With very ripe fruit and firm tannins, this mo...      87   \n",
       "\n",
       "                   province                   winery  \\\n",
       "0           Australia Other             Andrew Peace   \n",
       "1                Washington       North by Northwest   \n",
       "2                  Piedmont             Renato Ratti   \n",
       "3          Southwest France  Domaine l'Ancienne Cure   \n",
       "4              France Other         Château du Cèdre   \n",
       "...                     ...                      ...   \n",
       "20660            California        Yorkville Cellars   \n",
       "20661  Languedoc-Roussillon          Château Ribaute   \n",
       "20662            California                     Daou   \n",
       "20663        Northern Spain                 Peñascal   \n",
       "20664            California                  Langtry   \n",
       "\n",
       "                          variety source  \\\n",
       "0                      Chardonnay  train   \n",
       "1                       Red Blend  train   \n",
       "2                        Nebbiolo  train   \n",
       "3      Bordeaux-style White Blend  train   \n",
       "4                          Malbec  train   \n",
       "...                           ...    ...   \n",
       "20660                         NaN   test   \n",
       "20661                         NaN   test   \n",
       "20662                         NaN   test   \n",
       "20663                         NaN   test   \n",
       "20664                         NaN   test   \n",
       "\n",
       "                                                  detail  \n",
       "0      AustraliaAustralia OtherAndrew PeaceAndrew Pea...  \n",
       "1      USWashingtonNorth by NorthwestNorth by Northwe...  \n",
       "2      ItalyPiedmontRenato RattiRenato Ratti 2007 Con...  \n",
       "3      FranceSouthwest FranceDomaine l'Ancienne CureD...  \n",
       "4      FranceFrance OtherChâteau du CèdreChâteau du C...  \n",
       "...                                                  ...  \n",
       "20660  USCaliforniaYorkville CellarsYorkville Cellars...  \n",
       "20661  FranceLanguedoc-RoussillonChâteau RibauteChâte...  \n",
       "20662  USCaliforniaDaouDaou 2014 Reserve Cabernet Sau...  \n",
       "20663  SpainNorthern SpainPeñascalPeñascal 2011 Tempr...  \n",
       "20664  USCaliforniaLangtryLangtry 2005 Tephra Ridge V...  \n",
       "\n",
       "[103283 rows x 9 columns]"
      ]
     },
     "execution_count": 32,
     "metadata": {},
     "output_type": "execute_result"
    }
   ],
   "source": [
    "winedata_new"
   ]
  },
  {
   "cell_type": "code",
   "execution_count": 33,
   "id": "b651713a",
   "metadata": {},
   "outputs": [
    {
     "data": {
      "text/plain": [
       "<AxesSubplot:>"
      ]
     },
     "execution_count": 33,
     "metadata": {},
     "output_type": "execute_result"
    },
    {
     "data": {
      "image/png": "[encoded data removed]",
      "text/plain": [
       "<Figure size 432x288 with 2 Axes>"
      ]
     },
     "metadata": {
      "needs_background": "light"
     },
     "output_type": "display_data"
    }
   ],
   "source": [
    "sns.heatmap(winedata_new.isnull())"
   ]
  },
  {
   "cell_type": "markdown",
   "id": "9640be37",
   "metadata": {},
   "source": [
    "# 5. Text data pre-processing "
   ]
  },
  {
   "cell_type": "code",
   "execution_count": 34,
   "id": "a1c1d5e0",
   "metadata": {},
   "outputs": [],
   "source": [
    "import re\n",
    "def remove_tags(raw_text):\n",
    "    cleaned_text = re.sub(re.compile('<.*?>'), '', raw_text)\n",
    "    cleaned_text\n",
    "    return cleaned_text"
   ]
  },
  {
   "cell_type": "code",
   "execution_count": 35,
   "id": "59e322c1",
   "metadata": {},
   "outputs": [],
   "source": [
    "winedata_new[\"detail_clean\"] = winedata_new[\"detail\"].apply(remove_tags)"
   ]
  },
  {
   "cell_type": "code",
   "execution_count": 36,
   "id": "408f8fc8",
   "metadata": {},
   "outputs": [],
   "source": [
    "winedata_new[\"detail_clean\"] = winedata_new[\"detail_clean\"].apply(lambda x: x.lower())"
   ]
  },
  {
   "cell_type": "code",
   "execution_count": 37,
   "id": "146af2ee",
   "metadata": {},
   "outputs": [
    {
     "data": {
      "text/html": [
       "<div>\n",
       "<style scoped>\n",
       "    .dataframe tbody tr th:only-of-type {\n",
       "        vertical-align: middle;\n",
       "    }\n",
       "\n",
       "    .dataframe tbody tr th {\n",
       "        vertical-align: top;\n",
       "    }\n",
       "\n",
       "    .dataframe thead th {\n",
       "        text-align: right;\n",
       "    }\n",
       "</style>\n",
       "<table border=\"1\" class=\"dataframe\">\n",
       "  <thead>\n",
       "    <tr style=\"text-align: right;\">\n",
       "      <th></th>\n",
       "      <th>country</th>\n",
       "      <th>review_title</th>\n",
       "      <th>review_description</th>\n",
       "      <th>points</th>\n",
       "      <th>province</th>\n",
       "      <th>winery</th>\n",
       "      <th>variety</th>\n",
       "      <th>source</th>\n",
       "      <th>detail</th>\n",
       "      <th>detail_clean</th>\n",
       "    </tr>\n",
       "  </thead>\n",
       "  <tbody>\n",
       "    <tr>\n",
       "      <th>0</th>\n",
       "      <td>Australia</td>\n",
       "      <td>Andrew Peace 2007 Peace Family Vineyard Chardo...</td>\n",
       "      <td>Classic Chardonnay aromas of apple, pear and h...</td>\n",
       "      <td>83</td>\n",
       "      <td>Australia Other</td>\n",
       "      <td>Andrew Peace</td>\n",
       "      <td>Chardonnay</td>\n",
       "      <td>train</td>\n",
       "      <td>AustraliaAustralia OtherAndrew PeaceAndrew Pea...</td>\n",
       "      <td>australiaaustralia otherandrew peaceandrew pea...</td>\n",
       "    </tr>\n",
       "    <tr>\n",
       "      <th>1</th>\n",
       "      <td>US</td>\n",
       "      <td>North by Northwest 2014 Red (Columbia Valley (...</td>\n",
       "      <td>This wine is near equal parts Syrah and Merlot...</td>\n",
       "      <td>89</td>\n",
       "      <td>Washington</td>\n",
       "      <td>North by Northwest</td>\n",
       "      <td>Red Blend</td>\n",
       "      <td>train</td>\n",
       "      <td>USWashingtonNorth by NorthwestNorth by Northwe...</td>\n",
       "      <td>uswashingtonnorth by northwestnorth by northwe...</td>\n",
       "    </tr>\n",
       "    <tr>\n",
       "      <th>2</th>\n",
       "      <td>Italy</td>\n",
       "      <td>Renato Ratti 2007 Conca  (Barolo)</td>\n",
       "      <td>Barolo Conca opens with inky dark concentratio...</td>\n",
       "      <td>94</td>\n",
       "      <td>Piedmont</td>\n",
       "      <td>Renato Ratti</td>\n",
       "      <td>Nebbiolo</td>\n",
       "      <td>train</td>\n",
       "      <td>ItalyPiedmontRenato RattiRenato Ratti 2007 Con...</td>\n",
       "      <td>italypiedmontrenato rattirenato ratti 2007 con...</td>\n",
       "    </tr>\n",
       "    <tr>\n",
       "      <th>3</th>\n",
       "      <td>France</td>\n",
       "      <td>Domaine l'Ancienne Cure 2010 L'Abbaye White (B...</td>\n",
       "      <td>It's impressive what a small addition of Sauvi...</td>\n",
       "      <td>87</td>\n",
       "      <td>Southwest France</td>\n",
       "      <td>Domaine l'Ancienne Cure</td>\n",
       "      <td>Bordeaux-style White Blend</td>\n",
       "      <td>train</td>\n",
       "      <td>FranceSouthwest FranceDomaine l'Ancienne CureD...</td>\n",
       "      <td>francesouthwest francedomaine l'ancienne cured...</td>\n",
       "    </tr>\n",
       "    <tr>\n",
       "      <th>4</th>\n",
       "      <td>France</td>\n",
       "      <td>Château du Cèdre 2012 Le Cèdre Vintage Malbec ...</td>\n",
       "      <td>This ripe, sweet wine is rich and full of drie...</td>\n",
       "      <td>88</td>\n",
       "      <td>France Other</td>\n",
       "      <td>Château du Cèdre</td>\n",
       "      <td>Malbec</td>\n",
       "      <td>train</td>\n",
       "      <td>FranceFrance OtherChâteau du CèdreChâteau du C...</td>\n",
       "      <td>francefrance otherchâteau du cèdrechâteau du c...</td>\n",
       "    </tr>\n",
       "    <tr>\n",
       "      <th>...</th>\n",
       "      <td>...</td>\n",
       "      <td>...</td>\n",
       "      <td>...</td>\n",
       "      <td>...</td>\n",
       "      <td>...</td>\n",
       "      <td>...</td>\n",
       "      <td>...</td>\n",
       "      <td>...</td>\n",
       "      <td>...</td>\n",
       "      <td>...</td>\n",
       "    </tr>\n",
       "    <tr>\n",
       "      <th>20660</th>\n",
       "      <td>US</td>\n",
       "      <td>Yorkville Cellars 2013 Rennie Vineyard Caberne...</td>\n",
       "      <td>Clearly focused and fruit-driven, this wine ha...</td>\n",
       "      <td>91</td>\n",
       "      <td>California</td>\n",
       "      <td>Yorkville Cellars</td>\n",
       "      <td>NaN</td>\n",
       "      <td>test</td>\n",
       "      <td>USCaliforniaYorkville CellarsYorkville Cellars...</td>\n",
       "      <td>uscaliforniayorkville cellarsyorkville cellars...</td>\n",
       "    </tr>\n",
       "    <tr>\n",
       "      <th>20661</th>\n",
       "      <td>France</td>\n",
       "      <td>Château Ribaute 2015 Senhal d'Aric Rosé (Corbi...</td>\n",
       "      <td>Herbal tones of bay and rosemary are upfront o...</td>\n",
       "      <td>84</td>\n",
       "      <td>Languedoc-Roussillon</td>\n",
       "      <td>Château Ribaute</td>\n",
       "      <td>NaN</td>\n",
       "      <td>test</td>\n",
       "      <td>FranceLanguedoc-RoussillonChâteau RibauteChâte...</td>\n",
       "      <td>francelanguedoc-roussillonchâteau ribautechâte...</td>\n",
       "    </tr>\n",
       "    <tr>\n",
       "      <th>20662</th>\n",
       "      <td>US</td>\n",
       "      <td>Daou 2014 Reserve Cabernet Sauvignon (Paso Rob...</td>\n",
       "      <td>Mocha cream, pencil shaving and dried herb aro...</td>\n",
       "      <td>94</td>\n",
       "      <td>California</td>\n",
       "      <td>Daou</td>\n",
       "      <td>NaN</td>\n",
       "      <td>test</td>\n",
       "      <td>USCaliforniaDaouDaou 2014 Reserve Cabernet Sau...</td>\n",
       "      <td>uscaliforniadaoudaou 2014 reserve cabernet sau...</td>\n",
       "    </tr>\n",
       "    <tr>\n",
       "      <th>20663</th>\n",
       "      <td>Spain</td>\n",
       "      <td>Peñascal 2011 Tempranillo Rosé (Vino de la Tie...</td>\n",
       "      <td>Loud citrus and berry aromas precede an overlo...</td>\n",
       "      <td>80</td>\n",
       "      <td>Northern Spain</td>\n",
       "      <td>Peñascal</td>\n",
       "      <td>NaN</td>\n",
       "      <td>test</td>\n",
       "      <td>SpainNorthern SpainPeñascalPeñascal 2011 Tempr...</td>\n",
       "      <td>spainnorthern spainpeñascalpeñascal 2011 tempr...</td>\n",
       "    </tr>\n",
       "    <tr>\n",
       "      <th>20664</th>\n",
       "      <td>US</td>\n",
       "      <td>Langtry 2005 Tephra Ridge Vineyard Cabernet Sa...</td>\n",
       "      <td>With very ripe fruit and firm tannins, this mo...</td>\n",
       "      <td>87</td>\n",
       "      <td>California</td>\n",
       "      <td>Langtry</td>\n",
       "      <td>NaN</td>\n",
       "      <td>test</td>\n",
       "      <td>USCaliforniaLangtryLangtry 2005 Tephra Ridge V...</td>\n",
       "      <td>uscalifornialangtrylangtry 2005 tephra ridge v...</td>\n",
       "    </tr>\n",
       "  </tbody>\n",
       "</table>\n",
       "<p>103283 rows × 10 columns</p>\n",
       "</div>"
      ],
      "text/plain": [
       "         country                                       review_title  \\\n",
       "0      Australia  Andrew Peace 2007 Peace Family Vineyard Chardo...   \n",
       "1             US  North by Northwest 2014 Red (Columbia Valley (...   \n",
       "2          Italy                  Renato Ratti 2007 Conca  (Barolo)   \n",
       "3         France  Domaine l'Ancienne Cure 2010 L'Abbaye White (B...   \n",
       "4         France  Château du Cèdre 2012 Le Cèdre Vintage Malbec ...   \n",
       "...          ...                                                ...   \n",
       "20660         US  Yorkville Cellars 2013 Rennie Vineyard Caberne...   \n",
       "20661     France  Château Ribaute 2015 Senhal d'Aric Rosé (Corbi...   \n",
       "20662         US  Daou 2014 Reserve Cabernet Sauvignon (Paso Rob...   \n",
       "20663      Spain  Peñascal 2011 Tempranillo Rosé (Vino de la Tie...   \n",
       "20664         US  Langtry 2005 Tephra Ridge Vineyard Cabernet Sa...   \n",
       "\n",
       "                                      review_description  points  \\\n",
       "0      Classic Chardonnay aromas of apple, pear and h...      83   \n",
       "1      This wine is near equal parts Syrah and Merlot...      89   \n",
       "2      Barolo Conca opens with inky dark concentratio...      94   \n",
       "3      It's impressive what a small addition of Sauvi...      87   \n",
       "4      This ripe, sweet wine is rich and full of drie...      88   \n",
       "...                                                  ...     ...   \n",
       "20660  Clearly focused and fruit-driven, this wine ha...      91   \n",
       "20661  Herbal tones of bay and rosemary are upfront o...      84   \n",
       "20662  Mocha cream, pencil shaving and dried herb aro...      94   \n",
       "20663  Loud citrus and berry aromas precede an overlo...      80   \n",
       "20664  With very ripe fruit and firm tannins, this mo...      87   \n",
       "\n",
       "                   province                   winery  \\\n",
       "0           Australia Other             Andrew Peace   \n",
       "1                Washington       North by Northwest   \n",
       "2                  Piedmont             Renato Ratti   \n",
       "3          Southwest France  Domaine l'Ancienne Cure   \n",
       "4              France Other         Château du Cèdre   \n",
       "...                     ...                      ...   \n",
       "20660            California        Yorkville Cellars   \n",
       "20661  Languedoc-Roussillon          Château Ribaute   \n",
       "20662            California                     Daou   \n",
       "20663        Northern Spain                 Peñascal   \n",
       "20664            California                  Langtry   \n",
       "\n",
       "                          variety source  \\\n",
       "0                      Chardonnay  train   \n",
       "1                       Red Blend  train   \n",
       "2                        Nebbiolo  train   \n",
       "3      Bordeaux-style White Blend  train   \n",
       "4                          Malbec  train   \n",
       "...                           ...    ...   \n",
       "20660                         NaN   test   \n",
       "20661                         NaN   test   \n",
       "20662                         NaN   test   \n",
       "20663                         NaN   test   \n",
       "20664                         NaN   test   \n",
       "\n",
       "                                                  detail  \\\n",
       "0      AustraliaAustralia OtherAndrew PeaceAndrew Pea...   \n",
       "1      USWashingtonNorth by NorthwestNorth by Northwe...   \n",
       "2      ItalyPiedmontRenato RattiRenato Ratti 2007 Con...   \n",
       "3      FranceSouthwest FranceDomaine l'Ancienne CureD...   \n",
       "4      FranceFrance OtherChâteau du CèdreChâteau du C...   \n",
       "...                                                  ...   \n",
       "20660  USCaliforniaYorkville CellarsYorkville Cellars...   \n",
       "20661  FranceLanguedoc-RoussillonChâteau RibauteChâte...   \n",
       "20662  USCaliforniaDaouDaou 2014 Reserve Cabernet Sau...   \n",
       "20663  SpainNorthern SpainPeñascalPeñascal 2011 Tempr...   \n",
       "20664  USCaliforniaLangtryLangtry 2005 Tephra Ridge V...   \n",
       "\n",
       "                                            detail_clean  \n",
       "0      australiaaustralia otherandrew peaceandrew pea...  \n",
       "1      uswashingtonnorth by northwestnorth by northwe...  \n",
       "2      italypiedmontrenato rattirenato ratti 2007 con...  \n",
       "3      francesouthwest francedomaine l'ancienne cured...  \n",
       "4      francefrance otherchâteau du cèdrechâteau du c...  \n",
       "...                                                  ...  \n",
       "20660  uscaliforniayorkville cellarsyorkville cellars...  \n",
       "20661  francelanguedoc-roussillonchâteau ribautechâte...  \n",
       "20662  uscaliforniadaoudaou 2014 reserve cabernet sau...  \n",
       "20663  spainnorthern spainpeñascalpeñascal 2011 tempr...  \n",
       "20664  uscalifornialangtrylangtry 2005 tephra ridge v...  \n",
       "\n",
       "[103283 rows x 10 columns]"
      ]
     },
     "execution_count": 37,
     "metadata": {},
     "output_type": "execute_result"
    }
   ],
   "source": [
    "winedata_new"
   ]
  },
  {
   "cell_type": "code",
   "execution_count": null,
   "id": "cb511138",
   "metadata": {},
   "outputs": [],
   "source": []
  },
  {
   "cell_type": "code",
   "execution_count": 38,
   "id": "ef7f93a5",
   "metadata": {},
   "outputs": [
    {
     "data": {
      "text/html": [
       "<div>\n",
       "<style scoped>\n",
       "    .dataframe tbody tr th:only-of-type {\n",
       "        vertical-align: middle;\n",
       "    }\n",
       "\n",
       "    .dataframe tbody tr th {\n",
       "        vertical-align: top;\n",
       "    }\n",
       "\n",
       "    .dataframe thead th {\n",
       "        text-align: right;\n",
       "    }\n",
       "</style>\n",
       "<table border=\"1\" class=\"dataframe\">\n",
       "  <thead>\n",
       "    <tr style=\"text-align: right;\">\n",
       "      <th></th>\n",
       "      <th>detail_clean</th>\n",
       "      <th>points</th>\n",
       "      <th>variety</th>\n",
       "      <th>source</th>\n",
       "    </tr>\n",
       "  </thead>\n",
       "  <tbody>\n",
       "    <tr>\n",
       "      <th>0</th>\n",
       "      <td>australiaaustralia otherandrew peaceandrew pea...</td>\n",
       "      <td>83</td>\n",
       "      <td>Chardonnay</td>\n",
       "      <td>train</td>\n",
       "    </tr>\n",
       "    <tr>\n",
       "      <th>1</th>\n",
       "      <td>uswashingtonnorth by northwestnorth by northwe...</td>\n",
       "      <td>89</td>\n",
       "      <td>Red Blend</td>\n",
       "      <td>train</td>\n",
       "    </tr>\n",
       "    <tr>\n",
       "      <th>2</th>\n",
       "      <td>italypiedmontrenato rattirenato ratti 2007 con...</td>\n",
       "      <td>94</td>\n",
       "      <td>Nebbiolo</td>\n",
       "      <td>train</td>\n",
       "    </tr>\n",
       "    <tr>\n",
       "      <th>3</th>\n",
       "      <td>francesouthwest francedomaine l'ancienne cured...</td>\n",
       "      <td>87</td>\n",
       "      <td>Bordeaux-style White Blend</td>\n",
       "      <td>train</td>\n",
       "    </tr>\n",
       "    <tr>\n",
       "      <th>4</th>\n",
       "      <td>francefrance otherchâteau du cèdrechâteau du c...</td>\n",
       "      <td>88</td>\n",
       "      <td>Malbec</td>\n",
       "      <td>train</td>\n",
       "    </tr>\n",
       "    <tr>\n",
       "      <th>...</th>\n",
       "      <td>...</td>\n",
       "      <td>...</td>\n",
       "      <td>...</td>\n",
       "      <td>...</td>\n",
       "    </tr>\n",
       "    <tr>\n",
       "      <th>20660</th>\n",
       "      <td>uscaliforniayorkville cellarsyorkville cellars...</td>\n",
       "      <td>91</td>\n",
       "      <td>NaN</td>\n",
       "      <td>test</td>\n",
       "    </tr>\n",
       "    <tr>\n",
       "      <th>20661</th>\n",
       "      <td>francelanguedoc-roussillonchâteau ribautechâte...</td>\n",
       "      <td>84</td>\n",
       "      <td>NaN</td>\n",
       "      <td>test</td>\n",
       "    </tr>\n",
       "    <tr>\n",
       "      <th>20662</th>\n",
       "      <td>uscaliforniadaoudaou 2014 reserve cabernet sau...</td>\n",
       "      <td>94</td>\n",
       "      <td>NaN</td>\n",
       "      <td>test</td>\n",
       "    </tr>\n",
       "    <tr>\n",
       "      <th>20663</th>\n",
       "      <td>spainnorthern spainpeñascalpeñascal 2011 tempr...</td>\n",
       "      <td>80</td>\n",
       "      <td>NaN</td>\n",
       "      <td>test</td>\n",
       "    </tr>\n",
       "    <tr>\n",
       "      <th>20664</th>\n",
       "      <td>uscalifornialangtrylangtry 2005 tephra ridge v...</td>\n",
       "      <td>87</td>\n",
       "      <td>NaN</td>\n",
       "      <td>test</td>\n",
       "    </tr>\n",
       "  </tbody>\n",
       "</table>\n",
       "<p>103283 rows × 4 columns</p>\n",
       "</div>"
      ],
      "text/plain": [
       "                                            detail_clean  points  \\\n",
       "0      australiaaustralia otherandrew peaceandrew pea...      83   \n",
       "1      uswashingtonnorth by northwestnorth by northwe...      89   \n",
       "2      italypiedmontrenato rattirenato ratti 2007 con...      94   \n",
       "3      francesouthwest francedomaine l'ancienne cured...      87   \n",
       "4      francefrance otherchâteau du cèdrechâteau du c...      88   \n",
       "...                                                  ...     ...   \n",
       "20660  uscaliforniayorkville cellarsyorkville cellars...      91   \n",
       "20661  francelanguedoc-roussillonchâteau ribautechâte...      84   \n",
       "20662  uscaliforniadaoudaou 2014 reserve cabernet sau...      94   \n",
       "20663  spainnorthern spainpeñascalpeñascal 2011 tempr...      80   \n",
       "20664  uscalifornialangtrylangtry 2005 tephra ridge v...      87   \n",
       "\n",
       "                          variety source  \n",
       "0                      Chardonnay  train  \n",
       "1                       Red Blend  train  \n",
       "2                        Nebbiolo  train  \n",
       "3      Bordeaux-style White Blend  train  \n",
       "4                          Malbec  train  \n",
       "...                           ...    ...  \n",
       "20660                         NaN   test  \n",
       "20661                         NaN   test  \n",
       "20662                         NaN   test  \n",
       "20663                         NaN   test  \n",
       "20664                         NaN   test  \n",
       "\n",
       "[103283 rows x 4 columns]"
      ]
     },
     "execution_count": 38,
     "metadata": {},
     "output_type": "execute_result"
    }
   ],
   "source": [
    "df= winedata_new[[\"detail_clean\",\"points\",\"variety\",\"source\"]]\n",
    "df"
   ]
  },
  {
   "cell_type": "code",
   "execution_count": 39,
   "id": "ae0925d4",
   "metadata": {},
   "outputs": [
    {
     "data": {
      "text/html": [
       "<div>\n",
       "<style scoped>\n",
       "    .dataframe tbody tr th:only-of-type {\n",
       "        vertical-align: middle;\n",
       "    }\n",
       "\n",
       "    .dataframe tbody tr th {\n",
       "        vertical-align: top;\n",
       "    }\n",
       "\n",
       "    .dataframe thead th {\n",
       "        text-align: right;\n",
       "    }\n",
       "</style>\n",
       "<table border=\"1\" class=\"dataframe\">\n",
       "  <thead>\n",
       "    <tr style=\"text-align: right;\">\n",
       "      <th></th>\n",
       "      <th>detail_clean</th>\n",
       "      <th>points</th>\n",
       "      <th>variety</th>\n",
       "      <th>source</th>\n",
       "    </tr>\n",
       "  </thead>\n",
       "  <tbody>\n",
       "    <tr>\n",
       "      <th>0</th>\n",
       "      <td>australiaaustralia otherandrew peaceandrew pea...</td>\n",
       "      <td>83</td>\n",
       "      <td>Chardonnay</td>\n",
       "      <td>train</td>\n",
       "    </tr>\n",
       "    <tr>\n",
       "      <th>1</th>\n",
       "      <td>uswashingtonnorth by northwestnorth by northwe...</td>\n",
       "      <td>89</td>\n",
       "      <td>Red Blend</td>\n",
       "      <td>train</td>\n",
       "    </tr>\n",
       "    <tr>\n",
       "      <th>2</th>\n",
       "      <td>italypiedmontrenato rattirenato ratti 2007 con...</td>\n",
       "      <td>94</td>\n",
       "      <td>Nebbiolo</td>\n",
       "      <td>train</td>\n",
       "    </tr>\n",
       "    <tr>\n",
       "      <th>3</th>\n",
       "      <td>francesouthwest francedomaine l'ancienne cured...</td>\n",
       "      <td>87</td>\n",
       "      <td>Bordeaux-style White Blend</td>\n",
       "      <td>train</td>\n",
       "    </tr>\n",
       "    <tr>\n",
       "      <th>4</th>\n",
       "      <td>francefrance otherchâteau du cèdrechâteau du c...</td>\n",
       "      <td>88</td>\n",
       "      <td>Malbec</td>\n",
       "      <td>train</td>\n",
       "    </tr>\n",
       "    <tr>\n",
       "      <th>...</th>\n",
       "      <td>...</td>\n",
       "      <td>...</td>\n",
       "      <td>...</td>\n",
       "      <td>...</td>\n",
       "    </tr>\n",
       "    <tr>\n",
       "      <th>20660</th>\n",
       "      <td>uscaliforniayorkville cellarsyorkville cellars...</td>\n",
       "      <td>91</td>\n",
       "      <td>NaN</td>\n",
       "      <td>test</td>\n",
       "    </tr>\n",
       "    <tr>\n",
       "      <th>20661</th>\n",
       "      <td>francelanguedoc-roussillonchâteau ribautechâte...</td>\n",
       "      <td>84</td>\n",
       "      <td>NaN</td>\n",
       "      <td>test</td>\n",
       "    </tr>\n",
       "    <tr>\n",
       "      <th>20662</th>\n",
       "      <td>uscaliforniadaoudaou 2014 reserve cabernet sau...</td>\n",
       "      <td>94</td>\n",
       "      <td>NaN</td>\n",
       "      <td>test</td>\n",
       "    </tr>\n",
       "    <tr>\n",
       "      <th>20663</th>\n",
       "      <td>spainnorthern spainpeñascalpeñascal 2011 tempr...</td>\n",
       "      <td>80</td>\n",
       "      <td>NaN</td>\n",
       "      <td>test</td>\n",
       "    </tr>\n",
       "    <tr>\n",
       "      <th>20664</th>\n",
       "      <td>uscalifornialangtrylangtry 2005 tephra ridge v...</td>\n",
       "      <td>87</td>\n",
       "      <td>NaN</td>\n",
       "      <td>test</td>\n",
       "    </tr>\n",
       "  </tbody>\n",
       "</table>\n",
       "<p>103283 rows × 4 columns</p>\n",
       "</div>"
      ],
      "text/plain": [
       "                                            detail_clean  points  \\\n",
       "0      australiaaustralia otherandrew peaceandrew pea...      83   \n",
       "1      uswashingtonnorth by northwestnorth by northwe...      89   \n",
       "2      italypiedmontrenato rattirenato ratti 2007 con...      94   \n",
       "3      francesouthwest francedomaine l'ancienne cured...      87   \n",
       "4      francefrance otherchâteau du cèdrechâteau du c...      88   \n",
       "...                                                  ...     ...   \n",
       "20660  uscaliforniayorkville cellarsyorkville cellars...      91   \n",
       "20661  francelanguedoc-roussillonchâteau ribautechâte...      84   \n",
       "20662  uscaliforniadaoudaou 2014 reserve cabernet sau...      94   \n",
       "20663  spainnorthern spainpeñascalpeñascal 2011 tempr...      80   \n",
       "20664  uscalifornialangtrylangtry 2005 tephra ridge v...      87   \n",
       "\n",
       "                          variety source  \n",
       "0                      Chardonnay  train  \n",
       "1                       Red Blend  train  \n",
       "2                        Nebbiolo  train  \n",
       "3      Bordeaux-style White Blend  train  \n",
       "4                          Malbec  train  \n",
       "...                           ...    ...  \n",
       "20660                         NaN   test  \n",
       "20661                         NaN   test  \n",
       "20662                         NaN   test  \n",
       "20663                         NaN   test  \n",
       "20664                         NaN   test  \n",
       "\n",
       "[103283 rows x 4 columns]"
      ]
     },
     "execution_count": 39,
     "metadata": {},
     "output_type": "execute_result"
    }
   ],
   "source": [
    "df"
   ]
  },
  {
   "cell_type": "code",
   "execution_count": 40,
   "id": "f30b38ff",
   "metadata": {},
   "outputs": [],
   "source": [
    "train_f=df.loc[df['source']=='train']\n",
    "test_f=df.loc[df['source']=='test']"
   ]
  },
  {
   "cell_type": "code",
   "execution_count": 41,
   "id": "25d03bc9",
   "metadata": {},
   "outputs": [],
   "source": [
    "train_f.drop('source',axis=1,inplace=True)\n",
    "test_f.drop('source',axis=1,inplace=True)"
   ]
  },
  {
   "cell_type": "code",
   "execution_count": 42,
   "id": "f5d8c68a",
   "metadata": {},
   "outputs": [
    {
     "data": {
      "text/html": [
       "<div>\n",
       "<style scoped>\n",
       "    .dataframe tbody tr th:only-of-type {\n",
       "        vertical-align: middle;\n",
       "    }\n",
       "\n",
       "    .dataframe tbody tr th {\n",
       "        vertical-align: top;\n",
       "    }\n",
       "\n",
       "    .dataframe thead th {\n",
       "        text-align: right;\n",
       "    }\n",
       "</style>\n",
       "<table border=\"1\" class=\"dataframe\">\n",
       "  <thead>\n",
       "    <tr style=\"text-align: right;\">\n",
       "      <th></th>\n",
       "      <th>detail_clean</th>\n",
       "      <th>points</th>\n",
       "      <th>variety</th>\n",
       "    </tr>\n",
       "  </thead>\n",
       "  <tbody>\n",
       "    <tr>\n",
       "      <th>0</th>\n",
       "      <td>australiaaustralia otherandrew peaceandrew pea...</td>\n",
       "      <td>83</td>\n",
       "      <td>Chardonnay</td>\n",
       "    </tr>\n",
       "    <tr>\n",
       "      <th>1</th>\n",
       "      <td>uswashingtonnorth by northwestnorth by northwe...</td>\n",
       "      <td>89</td>\n",
       "      <td>Red Blend</td>\n",
       "    </tr>\n",
       "    <tr>\n",
       "      <th>2</th>\n",
       "      <td>italypiedmontrenato rattirenato ratti 2007 con...</td>\n",
       "      <td>94</td>\n",
       "      <td>Nebbiolo</td>\n",
       "    </tr>\n",
       "    <tr>\n",
       "      <th>3</th>\n",
       "      <td>francesouthwest francedomaine l'ancienne cured...</td>\n",
       "      <td>87</td>\n",
       "      <td>Bordeaux-style White Blend</td>\n",
       "    </tr>\n",
       "    <tr>\n",
       "      <th>4</th>\n",
       "      <td>francefrance otherchâteau du cèdrechâteau du c...</td>\n",
       "      <td>88</td>\n",
       "      <td>Malbec</td>\n",
       "    </tr>\n",
       "    <tr>\n",
       "      <th>...</th>\n",
       "      <td>...</td>\n",
       "      <td>...</td>\n",
       "      <td>...</td>\n",
       "    </tr>\n",
       "    <tr>\n",
       "      <th>82652</th>\n",
       "      <td>spainnorthern spainmontecillomontecillo 2007 c...</td>\n",
       "      <td>84</td>\n",
       "      <td>Tempranillo</td>\n",
       "    </tr>\n",
       "    <tr>\n",
       "      <th>82653</th>\n",
       "      <td>usnew mexicovivác wineryvivác winery 2008 sing...</td>\n",
       "      <td>85</td>\n",
       "      <td>Cabernet Sauvignon</td>\n",
       "    </tr>\n",
       "    <tr>\n",
       "      <th>82654</th>\n",
       "      <td>francebeaujolaisdomaine de la madonedomaine de...</td>\n",
       "      <td>87</td>\n",
       "      <td>Gamay</td>\n",
       "    </tr>\n",
       "    <tr>\n",
       "      <th>82655</th>\n",
       "      <td>francebordeauxchâteau beaumontchâteau beaumont...</td>\n",
       "      <td>91</td>\n",
       "      <td>Bordeaux-style Red Blend</td>\n",
       "    </tr>\n",
       "    <tr>\n",
       "      <th>82656</th>\n",
       "      <td>uscaliforniaround pondround pond 2010 estate c...</td>\n",
       "      <td>92</td>\n",
       "      <td>Cabernet Sauvignon</td>\n",
       "    </tr>\n",
       "  </tbody>\n",
       "</table>\n",
       "<p>82622 rows × 3 columns</p>\n",
       "</div>"
      ],
      "text/plain": [
       "                                            detail_clean  points  \\\n",
       "0      australiaaustralia otherandrew peaceandrew pea...      83   \n",
       "1      uswashingtonnorth by northwestnorth by northwe...      89   \n",
       "2      italypiedmontrenato rattirenato ratti 2007 con...      94   \n",
       "3      francesouthwest francedomaine l'ancienne cured...      87   \n",
       "4      francefrance otherchâteau du cèdrechâteau du c...      88   \n",
       "...                                                  ...     ...   \n",
       "82652  spainnorthern spainmontecillomontecillo 2007 c...      84   \n",
       "82653  usnew mexicovivác wineryvivác winery 2008 sing...      85   \n",
       "82654  francebeaujolaisdomaine de la madonedomaine de...      87   \n",
       "82655  francebordeauxchâteau beaumontchâteau beaumont...      91   \n",
       "82656  uscaliforniaround pondround pond 2010 estate c...      92   \n",
       "\n",
       "                          variety  \n",
       "0                      Chardonnay  \n",
       "1                       Red Blend  \n",
       "2                        Nebbiolo  \n",
       "3      Bordeaux-style White Blend  \n",
       "4                          Malbec  \n",
       "...                           ...  \n",
       "82652                 Tempranillo  \n",
       "82653          Cabernet Sauvignon  \n",
       "82654                       Gamay  \n",
       "82655    Bordeaux-style Red Blend  \n",
       "82656          Cabernet Sauvignon  \n",
       "\n",
       "[82622 rows x 3 columns]"
      ]
     },
     "execution_count": 42,
     "metadata": {},
     "output_type": "execute_result"
    }
   ],
   "source": [
    "train_f"
   ]
  },
  {
   "cell_type": "code",
   "execution_count": 43,
   "id": "40c0424a",
   "metadata": {},
   "outputs": [],
   "source": [
    "from sklearn.feature_extraction.text import TfidfVectorizer\n",
    "\n",
    "tfidf = TfidfVectorizer(max_features=5000)\n",
    "train_final = tfidf.fit_transform(train_f['detail_clean']).toarray()\n",
    "test_final = tfidf.transform(train_f['detail_clean']).toarray()"
   ]
  },
  {
   "cell_type": "code",
   "execution_count": 44,
   "id": "2ab9a2ed",
   "metadata": {},
   "outputs": [],
   "source": [
    "from sklearn.preprocessing import LabelEncoder\n",
    "\n",
    "encoder = LabelEncoder()\n",
    "\n",
    "y = encoder.fit_transform(train_f[\"variety\"])"
   ]
  },
  {
   "cell_type": "markdown",
   "id": "01074907",
   "metadata": {},
   "source": [
    "# 6.  Model "
   ]
  },
  {
   "cell_type": "code",
   "execution_count": 45,
   "id": "8c381dc9",
   "metadata": {},
   "outputs": [],
   "source": [
    "from sklearn.model_selection import train_test_split\n",
    "X_train,X_test,y_train,y_test = train_test_split(train_final,y,test_size=0.33,random_state=1)"
   ]
  },
  {
   "cell_type": "code",
   "execution_count": 46,
   "id": "469ee919",
   "metadata": {},
   "outputs": [],
   "source": [
    "from sklearn.metrics import accuracy_score,confusion_matrix"
   ]
  },
  {
   "cell_type": "code",
   "execution_count": 47,
   "id": "63b99f98",
   "metadata": {},
   "outputs": [
    {
     "data": {
      "text/plain": [
       "0.9347905816768136"
      ]
     },
     "execution_count": 47,
     "metadata": {},
     "output_type": "execute_result"
    }
   ],
   "source": [
    "from sklearn.ensemble import RandomForestClassifier\n",
    "rf = RandomForestClassifier()\n",
    "\n",
    "rf.fit(X_train,y_train)\n",
    "y_pred = rf.predict(X_test)\n",
    "accuracy_score(y_test,y_pred)"
   ]
  },
  {
   "cell_type": "code",
   "execution_count": 48,
   "id": "ced9afa4",
   "metadata": {},
   "outputs": [
    {
     "data": {
      "text/plain": [
       "array([2.51510402e-05, 6.89514919e-06, 8.09185141e-06, ...,\n",
       "       1.80765416e-05, 1.30495100e-05, 1.35623529e-05])"
      ]
     },
     "execution_count": 48,
     "metadata": {},
     "output_type": "execute_result"
    }
   ],
   "source": [
    "rf.feature_importances_"
   ]
  },
  {
   "cell_type": "code",
   "execution_count": 49,
   "id": "1cf27ed0",
   "metadata": {},
   "outputs": [],
   "source": [
    "pridict_variety_rf= rf.predict(test_final)"
   ]
  },
  {
   "cell_type": "code",
   "execution_count": 50,
   "id": "f8c08568",
   "metadata": {},
   "outputs": [
    {
     "data": {
      "text/plain": [
       "0.9454265385461748"
      ]
     },
     "execution_count": 50,
     "metadata": {},
     "output_type": "execute_result"
    }
   ],
   "source": [
    "from sklearn.linear_model import LogisticRegression\n",
    "\n",
    "logit1 = LogisticRegression(random_state = 0)\n",
    "logit1.fit(X_train,y_train)\n",
    "y_pred = logit1.predict(X_test)\n",
    "accuracy_score(y_test,y_pred)"
   ]
  },
  {
   "cell_type": "code",
   "execution_count": 51,
   "id": "d62f88b1",
   "metadata": {},
   "outputs": [],
   "source": [
    "pridict_variety_lr= rf.predict(test_final)"
   ]
  },
  {
   "cell_type": "code",
   "execution_count": 52,
   "id": "6bd5a081",
   "metadata": {},
   "outputs": [
    {
     "name": "stdout",
     "output_type": "stream",
     "text": [
      "[ 5 17 11 ...  6  0  3]\n"
     ]
    }
   ],
   "source": [
    "print(pridict_variety_rf)"
   ]
  },
  {
   "cell_type": "code",
   "execution_count": 53,
   "id": "3b1a38c1",
   "metadata": {},
   "outputs": [],
   "source": [
    "variety= encoder.inverse_transform(pridict_variety_rf)\n",
    "variety=pd.DataFrame(variety)"
   ]
  },
  {
   "cell_type": "code",
   "execution_count": 54,
   "id": "5bb6e7bb",
   "metadata": {},
   "outputs": [],
   "source": [
    "variety.to_csv(\"C:/Users/risew/Downloads/test_variety.csv\")"
   ]
  },
  {
   "cell_type": "code",
   "execution_count": null,
   "id": "4af44bf8",
   "metadata": {},
   "outputs": [],
   "source": []
  }
 ],
 "metadata": {
  "kernelspec": {
   "display_name": "Python 3 (ipykernel)",
   "language": "python",
   "name": "python3"
  },
  "language_info": {
   "codemirror_mode": {
    "name": "ipython",
    "version": 3
   },
   "file_extension": ".py",
   "mimetype": "text/x-python",
   "name": "python",
   "nbconvert_exporter": "python",
   "pygments_lexer": "ipython3",
   "version": "3.9.7"
  }
 },
 "nbformat": 4,
 "nbformat_minor": 5
}
